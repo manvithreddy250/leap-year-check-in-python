{
  "nbformat": 4,
  "nbformat_minor": 0,
  "metadata": {
    "colab": {
      "provenance": [],
      "authorship_tag": "ABX9TyNEAZj6XSEslxa/rXc6FDXW",
      "include_colab_link": true
    },
    "kernelspec": {
      "name": "python3",
      "display_name": "Python 3"
    },
    "language_info": {
      "name": "python"
    }
  },
  "cells": [
    {
      "cell_type": "markdown",
      "metadata": {
        "id": "view-in-github",
        "colab_type": "text"
      },
      "source": [
        "<a href=\"https://colab.research.google.com/github/manvithreddy250/leap-year-check-in-python/blob/main/leapyearcheck.ipynb\" target=\"_parent\"><img src=\"https://colab.research.google.com/assets/colab-badge.svg\" alt=\"Open In Colab\"/></a>"
      ]
    },
    {
      "cell_type": "code",
      "execution_count": 1,
      "metadata": {
        "colab": {
          "base_uri": "https://localhost:8080/"
        },
        "id": "h3oeoRlS_YBW",
        "outputId": "b14f8bf9-9e2f-41ea-d0a4-bfb1f62352ea"
      },
      "outputs": [
        {
          "output_type": "stream",
          "name": "stdout",
          "text": [
            "Enter a year:- 2003\n",
            "2003 is not a leap year!!\n"
          ]
        }
      ],
      "source": [
        " # Here, you take the input from the user\n",
        "\n",
        "year = int(input(\"Enter a year:- \"))\n",
        "\n",
        "if(((year % 4 == 0) and (year % 100 != 0)) or (year % 400 == 0)):\n",
        "\n",
        "    \"\"\"\n",
        "    if a year is a multiple of four and a multiple of 100 i.e. if it is a multiple of 400 it is not a leap year\n",
        "    \"\"\"\n",
        "\n",
        "    print(\"{0} is a leap year!!\".format(year))\n",
        "\n",
        "    \"\"\"\n",
        "    printing the output\n",
        "    \"\"\"\n",
        "else:\n",
        "    print(\"{0} is not a leap year!!\".format(year))"
      ]
    },
    {
      "cell_type": "code",
      "source": [],
      "metadata": {
        "id": "X_gIPhcq_ZAa"
      },
      "execution_count": null,
      "outputs": []
    }
  ]
}